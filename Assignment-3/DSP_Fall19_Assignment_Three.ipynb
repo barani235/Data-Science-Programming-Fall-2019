{
 "cells": [
  {
   "cell_type": "markdown",
   "metadata": {},
   "source": [
    "# Data Science Programming Assignment 3"
   ]
  },
  {
   "cell_type": "markdown",
   "metadata": {},
   "source": [
    "<ul>\n",
    "    <li>Load the Combined Cycle Power Plant dataset</li>\n",
    "    <li>Visualize the distribution of each attibute</li>\n",
    "    <li>Split the data into training and test sets</li>\n",
    "    <li>For the support vector models to perform better, scale the data</li>\n",
    "    <li>Build a linear SVR model and analyse its performances</li>\n",
    "    <li>Build a SVR model with a linear kernel and compare its performances with the Linear SVR model</li>\n",
    "    <li>Using a sample from the original data, plot learning curve for the SVR model and interpret the results</li>\n",
    "</ul>"
   ]
  },
  {
   "cell_type": "code",
   "execution_count": null,
   "metadata": {},
   "outputs": [],
   "source": []
  }
 ],
 "metadata": {
  "kernelspec": {
   "display_name": "Python 3",
   "language": "python",
   "name": "python3"
  },
  "language_info": {
   "codemirror_mode": {
    "name": "ipython",
    "version": 3
   },
   "file_extension": ".py",
   "mimetype": "text/x-python",
   "name": "python",
   "nbconvert_exporter": "python",
   "pygments_lexer": "ipython3",
   "version": "3.7.2"
  }
 },
 "nbformat": 4,
 "nbformat_minor": 2
}
