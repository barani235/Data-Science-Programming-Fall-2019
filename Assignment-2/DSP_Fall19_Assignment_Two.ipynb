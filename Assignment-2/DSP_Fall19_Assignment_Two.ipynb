{
 "cells": [
  {
   "cell_type": "markdown",
   "metadata": {},
   "source": [
    "# Data Science Programming Fall 19 Assignment 2"
   ]
  },
  {
   "cell_type": "markdown",
   "metadata": {},
   "source": [
    "### Use bank2.csv file for this assignment"
   ]
  },
  {
   "cell_type": "markdown",
   "metadata": {},
   "source": [
    "<b><i>This Assignment focuses on data preprocessing and model building. Load the \"bank\" dataset and predict the \"subscription status\" using a stochastic gradient descent classifier. Make a stratified 80-20 split based on target to ensure there are no biases in the dataset. Calculate the confusion matrix, precision, recall, accuracy, f1 score, cross validation scores for the models. Also, plot ROC Curve for the model. Provide your intepretations based on these metrics.</i></b>"
   ]
  },
  {
   "cell_type": "markdown",
   "metadata": {},
   "source": [
    "<ul>\n",
    "    <li>Import the required libraries</li>\n",
    "    <li>Make an 80-20 stratified split based on the target data</li>\n",
    "    <li>Preprocess the data (Encode the  categorical features and Standardize the numerical features)</li>\n",
    "    <li>Build a stochastic gradient descent classifier, train the model and make predictions using it</li>\n",
    "    <li>Evaluate your model based on the various metrics stated above</li>\n",
    "    <li>Plot ROC curve and provide insights</li>\n",
    "</ul>"
   ]
  },
  {
   "cell_type": "code",
   "execution_count": null,
   "metadata": {},
   "outputs": [],
   "source": []
  }
 ],
 "metadata": {
  "kernelspec": {
   "display_name": "Python 3",
   "language": "python",
   "name": "python3"
  },
  "language_info": {
   "codemirror_mode": {
    "name": "ipython",
    "version": 3
   },
   "file_extension": ".py",
   "mimetype": "text/x-python",
   "name": "python",
   "nbconvert_exporter": "python",
   "pygments_lexer": "ipython3",
   "version": "3.7.2"
  }
 },
 "nbformat": 4,
 "nbformat_minor": 2
}
