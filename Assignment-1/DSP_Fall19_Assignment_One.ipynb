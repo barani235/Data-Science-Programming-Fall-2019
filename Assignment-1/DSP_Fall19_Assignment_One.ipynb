{
 "cells": [
  {
   "cell_type": "markdown",
   "metadata": {},
   "source": [
    " ### The questions below relate to the bank.csv data file and the associated coulmn_meta.txt file that lists the column names."
   ]
  },
  {
   "cell_type": "markdown",
   "metadata": {},
   "source": [
    "1. Load the data and programmatically define the column names. Note: this part is \"mostly\" done for you below, but you have to modify two parts of the code below (read the comments to see which). Makes rue to look at the column_meta.txt file in a text editor so you can understand how the column names show up in that file. As you can also see, the bank.csv does not have the names as part of the file, which is why we are doing this here."
   ]
  },
  {
   "cell_type": "code",
   "execution_count": 1,
   "metadata": {
    "collapsed": true
   },
   "outputs": [],
   "source": [
    "import numpy as np\n",
    "import pandas as pd"
   ]
  },
  {
   "cell_type": "code",
   "execution_count": 2,
   "metadata": {
    "collapsed": true
   },
   "outputs": [],
   "source": [
    "bank=pd.read_csv(\"bank.csv\")"
   ]
  },
  {
   "cell_type": "code",
   "execution_count": 3,
   "metadata": {
    "collapsed": true
   },
   "outputs": [],
   "source": [
    "col_nm_file = open(\"column_meta.txt\", \"r\") \n",
    "col_nms = col_nm_file.readlines(-1)\n",
    "col_nm_file.close()"
   ]
  },
  {
   "cell_type": "code",
   "execution_count": null,
   "metadata": {},
   "outputs": [],
   "source": [
    "def column_names(col_nm_list):\n",
    "    col_names=[]\n",
    "    for i in col_nm_list:\n",
    "        if # what condition should this be? :\n",
    "            header=i.split(\"-\")[1]\n",
    "            header_2=header.split()[0]\n",
    "            # fill in this line with the correct piece of code\n",
    "    return col_names\n",
    "\n",
    "# complete this line with the correct piece of code (hint: this is a function call).\n",
    "\n",
    "print (Col_names) # this will now print the names of all the columns if you completed the code correctly"
   ]
  },
  {
   "cell_type": "code",
   "execution_count": 5,
   "metadata": {
    "collapsed": true
   },
   "outputs": [],
   "source": [
    "bank.columns=Col_names"
   ]
  },
  {
   "cell_type": "code",
   "execution_count": null,
   "metadata": {
    "scrolled": true
   },
   "outputs": [],
   "source": [
    "bank.head(5)"
   ]
  },
  {
   "cell_type": "markdown",
   "metadata": {},
   "source": [
    "2. Find the mean, min and max duration of campaign for all the customers that did not subscribe to a term deposit."
   ]
  },
  {
   "cell_type": "code",
   "execution_count": null,
   "metadata": {},
   "outputs": [],
   "source": [
    "# enter your code here to answer Q2"
   ]
  },
  {
   "cell_type": "markdown",
   "metadata": {},
   "source": [
    "3. How many married people with both housing loan and personal loan subscribed to the term deposit on first time being campaigned?"
   ]
  },
  {
   "cell_type": "code",
   "execution_count": null,
   "metadata": {},
   "outputs": [],
   "source": [
    "# enter your code here to answer Q3"
   ]
  },
  {
   "cell_type": "markdown",
   "metadata": {},
   "source": [
    "4. Optional Question (no credit, or no extra credit): Find the top five categories of customers(by job) that required maximum campaigning duration to subscribe to the term deposit."
   ]
  },
  {
   "cell_type": "code",
   "execution_count": null,
   "metadata": {},
   "outputs": [],
   "source": [
    "# enter your code here (this question is optional and has no impact on your grade)"
   ]
  },
  {
   "cell_type": "markdown",
   "metadata": {},
   "source": [
    "5. Draw a histogram of \"day_of_the_month\" and provide insights based on the distribution."
   ]
  },
  {
   "cell_type": "code",
   "execution_count": null,
   "metadata": {},
   "outputs": [],
   "source": [
    "# end the code for Q5 here and enter a textual description (of your insights) after the histogram"
   ]
  }
 ],
 "metadata": {
  "kernelspec": {
   "display_name": "Python 3",
   "language": "python",
   "name": "python3"
  },
  "language_info": {
   "codemirror_mode": {
    "name": "ipython",
    "version": 3
   },
   "file_extension": ".py",
   "mimetype": "text/x-python",
   "name": "python",
   "nbconvert_exporter": "python",
   "pygments_lexer": "ipython3",
   "version": "3.7.2"
  }
 },
 "nbformat": 4,
 "nbformat_minor": 2
}
