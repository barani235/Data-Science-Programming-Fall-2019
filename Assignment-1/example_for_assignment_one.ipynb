{
 "cells": [
  {
   "cell_type": "markdown",
   "metadata": {},
   "source": [
    "## This is only an example"
   ]
  },
  {
   "cell_type": "code",
   "execution_count": 1,
   "metadata": {},
   "outputs": [],
   "source": [
    "import numpy as np\n",
    "import pandas as pd"
   ]
  },
  {
   "cell_type": "markdown",
   "metadata": {},
   "source": [
    "Read the Excel file"
   ]
  },
  {
   "cell_type": "code",
   "execution_count": 2,
   "metadata": {},
   "outputs": [],
   "source": [
    "data = pd.read_excel(\"prison_category.xlsx\")"
   ]
  },
  {
   "cell_type": "code",
   "execution_count": 3,
   "metadata": {},
   "outputs": [
    {
     "data": {
      "text/plain": [
       "pandas.core.frame.DataFrame"
      ]
     },
     "execution_count": 3,
     "metadata": {},
     "output_type": "execute_result"
    }
   ],
   "source": [
    "type(data)"
   ]
  },
  {
   "cell_type": "code",
   "execution_count": 4,
   "metadata": {},
   "outputs": [
    {
     "data": {
      "text/html": [
       "<div>\n",
       "<style scoped>\n",
       "    .dataframe tbody tr th:only-of-type {\n",
       "        vertical-align: middle;\n",
       "    }\n",
       "\n",
       "    .dataframe tbody tr th {\n",
       "        vertical-align: top;\n",
       "    }\n",
       "\n",
       "    .dataframe thead th {\n",
       "        text-align: right;\n",
       "    }\n",
       "</style>\n",
       "<table border=\"1\" class=\"dataframe\">\n",
       "  <thead>\n",
       "    <tr style=\"text-align: right;\">\n",
       "      <th></th>\n",
       "      <th>Region</th>\n",
       "      <th>Sub Region</th>\n",
       "      <th>Country</th>\n",
       "      <th>Category</th>\n",
       "      <th>Year</th>\n",
       "      <th>Count</th>\n",
       "    </tr>\n",
       "  </thead>\n",
       "  <tbody>\n",
       "    <tr>\n",
       "      <th>0</th>\n",
       "      <td>Africa</td>\n",
       "      <td>Eastern Africa</td>\n",
       "      <td>Burundi</td>\n",
       "      <td>1.Adults</td>\n",
       "      <td>2006</td>\n",
       "      <td>7858</td>\n",
       "    </tr>\n",
       "    <tr>\n",
       "      <th>1</th>\n",
       "      <td>Africa</td>\n",
       "      <td>Eastern Africa</td>\n",
       "      <td>Burundi</td>\n",
       "      <td>1.Adults</td>\n",
       "      <td>2007</td>\n",
       "      <td>7882</td>\n",
       "    </tr>\n",
       "    <tr>\n",
       "      <th>2</th>\n",
       "      <td>Africa</td>\n",
       "      <td>Eastern Africa</td>\n",
       "      <td>Burundi</td>\n",
       "      <td>1.Adults</td>\n",
       "      <td>2008</td>\n",
       "      <td>9451</td>\n",
       "    </tr>\n",
       "    <tr>\n",
       "      <th>3</th>\n",
       "      <td>Africa</td>\n",
       "      <td>Eastern Africa</td>\n",
       "      <td>Burundi</td>\n",
       "      <td>1.Adults</td>\n",
       "      <td>2009</td>\n",
       "      <td>10460</td>\n",
       "    </tr>\n",
       "    <tr>\n",
       "      <th>4</th>\n",
       "      <td>Africa</td>\n",
       "      <td>Eastern Africa</td>\n",
       "      <td>Burundi</td>\n",
       "      <td>1.Adults</td>\n",
       "      <td>2010</td>\n",
       "      <td>9477</td>\n",
       "    </tr>\n",
       "  </tbody>\n",
       "</table>\n",
       "</div>"
      ],
      "text/plain": [
       "   Region      Sub Region  Country  Category  Year  Count\n",
       "0  Africa  Eastern Africa  Burundi  1.Adults  2006   7858\n",
       "1  Africa  Eastern Africa  Burundi  1.Adults  2007   7882\n",
       "2  Africa  Eastern Africa  Burundi  1.Adults  2008   9451\n",
       "3  Africa  Eastern Africa  Burundi  1.Adults  2009  10460\n",
       "4  Africa  Eastern Africa  Burundi  1.Adults  2010   9477"
      ]
     },
     "execution_count": 4,
     "metadata": {},
     "output_type": "execute_result"
    }
   ],
   "source": [
    "data.head()"
   ]
  },
  {
   "cell_type": "markdown",
   "metadata": {},
   "source": [
    "Split the column Category into \"Cat_No\" and \"Cat_Name\" based on the delimiter \".\""
   ]
  },
  {
   "cell_type": "code",
   "execution_count": 15,
   "metadata": {},
   "outputs": [],
   "source": [
    "data[[\"Cat_No\",\"Cat_Name\"]]=data.Category.str.split('.',-1,True)"
   ]
  },
  {
   "cell_type": "code",
   "execution_count": 16,
   "metadata": {},
   "outputs": [
    {
     "data": {
      "text/html": [
       "<div>\n",
       "<style scoped>\n",
       "    .dataframe tbody tr th:only-of-type {\n",
       "        vertical-align: middle;\n",
       "    }\n",
       "\n",
       "    .dataframe tbody tr th {\n",
       "        vertical-align: top;\n",
       "    }\n",
       "\n",
       "    .dataframe thead th {\n",
       "        text-align: right;\n",
       "    }\n",
       "</style>\n",
       "<table border=\"1\" class=\"dataframe\">\n",
       "  <thead>\n",
       "    <tr style=\"text-align: right;\">\n",
       "      <th></th>\n",
       "      <th>Region</th>\n",
       "      <th>Sub Region</th>\n",
       "      <th>Country</th>\n",
       "      <th>Category</th>\n",
       "      <th>Year</th>\n",
       "      <th>Count</th>\n",
       "      <th>Cat_No</th>\n",
       "      <th>Cat_Name</th>\n",
       "    </tr>\n",
       "  </thead>\n",
       "  <tbody>\n",
       "    <tr>\n",
       "      <th>0</th>\n",
       "      <td>Africa</td>\n",
       "      <td>Eastern Africa</td>\n",
       "      <td>Burundi</td>\n",
       "      <td>1.Adults</td>\n",
       "      <td>2006</td>\n",
       "      <td>7858</td>\n",
       "      <td>1</td>\n",
       "      <td>Adults</td>\n",
       "    </tr>\n",
       "    <tr>\n",
       "      <th>1</th>\n",
       "      <td>Africa</td>\n",
       "      <td>Eastern Africa</td>\n",
       "      <td>Burundi</td>\n",
       "      <td>1.Adults</td>\n",
       "      <td>2007</td>\n",
       "      <td>7882</td>\n",
       "      <td>1</td>\n",
       "      <td>Adults</td>\n",
       "    </tr>\n",
       "    <tr>\n",
       "      <th>2</th>\n",
       "      <td>Africa</td>\n",
       "      <td>Eastern Africa</td>\n",
       "      <td>Burundi</td>\n",
       "      <td>1.Adults</td>\n",
       "      <td>2008</td>\n",
       "      <td>9451</td>\n",
       "      <td>1</td>\n",
       "      <td>Adults</td>\n",
       "    </tr>\n",
       "    <tr>\n",
       "      <th>3</th>\n",
       "      <td>Africa</td>\n",
       "      <td>Eastern Africa</td>\n",
       "      <td>Burundi</td>\n",
       "      <td>1.Adults</td>\n",
       "      <td>2009</td>\n",
       "      <td>10460</td>\n",
       "      <td>1</td>\n",
       "      <td>Adults</td>\n",
       "    </tr>\n",
       "    <tr>\n",
       "      <th>4</th>\n",
       "      <td>Africa</td>\n",
       "      <td>Eastern Africa</td>\n",
       "      <td>Burundi</td>\n",
       "      <td>1.Adults</td>\n",
       "      <td>2010</td>\n",
       "      <td>9477</td>\n",
       "      <td>1</td>\n",
       "      <td>Adults</td>\n",
       "    </tr>\n",
       "  </tbody>\n",
       "</table>\n",
       "</div>"
      ],
      "text/plain": [
       "   Region      Sub Region  Country  Category  Year  Count Cat_No Cat_Name\n",
       "0  Africa  Eastern Africa  Burundi  1.Adults  2006   7858      1   Adults\n",
       "1  Africa  Eastern Africa  Burundi  1.Adults  2007   7882      1   Adults\n",
       "2  Africa  Eastern Africa  Burundi  1.Adults  2008   9451      1   Adults\n",
       "3  Africa  Eastern Africa  Burundi  1.Adults  2009  10460      1   Adults\n",
       "4  Africa  Eastern Africa  Burundi  1.Adults  2010   9477      1   Adults"
      ]
     },
     "execution_count": 16,
     "metadata": {},
     "output_type": "execute_result"
    }
   ],
   "source": [
    "data.head()"
   ]
  },
  {
   "cell_type": "markdown",
   "metadata": {},
   "source": [
    "Group the data based on Year and calculate the basic stats"
   ]
  },
  {
   "cell_type": "code",
   "execution_count": 17,
   "metadata": {},
   "outputs": [],
   "source": [
    "Year_wise=data.groupby(\"Year\")[\"Count\"].describe()"
   ]
  },
  {
   "cell_type": "code",
   "execution_count": 18,
   "metadata": {},
   "outputs": [
    {
     "data": {
      "text/html": [
       "<div>\n",
       "<style scoped>\n",
       "    .dataframe tbody tr th:only-of-type {\n",
       "        vertical-align: middle;\n",
       "    }\n",
       "\n",
       "    .dataframe tbody tr th {\n",
       "        vertical-align: top;\n",
       "    }\n",
       "\n",
       "    .dataframe thead th {\n",
       "        text-align: right;\n",
       "    }\n",
       "</style>\n",
       "<table border=\"1\" class=\"dataframe\">\n",
       "  <thead>\n",
       "    <tr style=\"text-align: right;\">\n",
       "      <th></th>\n",
       "      <th>count</th>\n",
       "      <th>mean</th>\n",
       "      <th>std</th>\n",
       "      <th>min</th>\n",
       "      <th>25%</th>\n",
       "      <th>50%</th>\n",
       "      <th>75%</th>\n",
       "      <th>max</th>\n",
       "    </tr>\n",
       "    <tr>\n",
       "      <th>Year</th>\n",
       "      <th></th>\n",
       "      <th></th>\n",
       "      <th></th>\n",
       "      <th></th>\n",
       "      <th></th>\n",
       "      <th></th>\n",
       "      <th></th>\n",
       "      <th></th>\n",
       "    </tr>\n",
       "  </thead>\n",
       "  <tbody>\n",
       "    <tr>\n",
       "      <th>2003</th>\n",
       "      <td>161.0</td>\n",
       "      <td>25836.285714</td>\n",
       "      <td>164833.398941</td>\n",
       "      <td>0.0</td>\n",
       "      <td>131.00</td>\n",
       "      <td>1143.0</td>\n",
       "      <td>9931.00</td>\n",
       "      <td>2071969.0</td>\n",
       "    </tr>\n",
       "    <tr>\n",
       "      <th>2004</th>\n",
       "      <td>224.0</td>\n",
       "      <td>29838.008929</td>\n",
       "      <td>159384.035868</td>\n",
       "      <td>0.0</td>\n",
       "      <td>156.50</td>\n",
       "      <td>1435.0</td>\n",
       "      <td>11365.00</td>\n",
       "      <td>2139600.0</td>\n",
       "    </tr>\n",
       "    <tr>\n",
       "      <th>2005</th>\n",
       "      <td>282.0</td>\n",
       "      <td>27286.468085</td>\n",
       "      <td>147021.078116</td>\n",
       "      <td>0.0</td>\n",
       "      <td>206.25</td>\n",
       "      <td>1748.0</td>\n",
       "      <td>10479.25</td>\n",
       "      <td>2179600.0</td>\n",
       "    </tr>\n",
       "    <tr>\n",
       "      <th>2006</th>\n",
       "      <td>297.0</td>\n",
       "      <td>35336.269360</td>\n",
       "      <td>193432.461753</td>\n",
       "      <td>1.0</td>\n",
       "      <td>182.00</td>\n",
       "      <td>1609.0</td>\n",
       "      <td>10406.00</td>\n",
       "      <td>2242000.0</td>\n",
       "    </tr>\n",
       "    <tr>\n",
       "      <th>2007</th>\n",
       "      <td>300.0</td>\n",
       "      <td>35562.383333</td>\n",
       "      <td>195398.617307</td>\n",
       "      <td>0.0</td>\n",
       "      <td>196.75</td>\n",
       "      <td>2148.5</td>\n",
       "      <td>10096.00</td>\n",
       "      <td>2271100.0</td>\n",
       "    </tr>\n",
       "    <tr>\n",
       "      <th>2008</th>\n",
       "      <td>341.0</td>\n",
       "      <td>34918.809384</td>\n",
       "      <td>185842.428655</td>\n",
       "      <td>0.0</td>\n",
       "      <td>231.00</td>\n",
       "      <td>1930.0</td>\n",
       "      <td>10536.00</td>\n",
       "      <td>2289500.0</td>\n",
       "    </tr>\n",
       "    <tr>\n",
       "      <th>2009</th>\n",
       "      <td>345.0</td>\n",
       "      <td>33991.773913</td>\n",
       "      <td>183412.828726</td>\n",
       "      <td>0.0</td>\n",
       "      <td>192.00</td>\n",
       "      <td>1861.0</td>\n",
       "      <td>10218.00</td>\n",
       "      <td>2281900.0</td>\n",
       "    </tr>\n",
       "    <tr>\n",
       "      <th>2010</th>\n",
       "      <td>358.0</td>\n",
       "      <td>42818.379888</td>\n",
       "      <td>215284.373263</td>\n",
       "      <td>0.0</td>\n",
       "      <td>218.50</td>\n",
       "      <td>2103.5</td>\n",
       "      <td>11446.00</td>\n",
       "      <td>2269200.0</td>\n",
       "    </tr>\n",
       "    <tr>\n",
       "      <th>2011</th>\n",
       "      <td>361.0</td>\n",
       "      <td>42220.565097</td>\n",
       "      <td>211920.046778</td>\n",
       "      <td>0.0</td>\n",
       "      <td>209.00</td>\n",
       "      <td>1982.0</td>\n",
       "      <td>11892.00</td>\n",
       "      <td>2244800.0</td>\n",
       "    </tr>\n",
       "    <tr>\n",
       "      <th>2012</th>\n",
       "      <td>364.0</td>\n",
       "      <td>41907.527473</td>\n",
       "      <td>210101.649467</td>\n",
       "      <td>0.0</td>\n",
       "      <td>227.75</td>\n",
       "      <td>1985.0</td>\n",
       "      <td>12502.75</td>\n",
       "      <td>2224700.0</td>\n",
       "    </tr>\n",
       "    <tr>\n",
       "      <th>2013</th>\n",
       "      <td>368.0</td>\n",
       "      <td>41920.190217</td>\n",
       "      <td>210296.049925</td>\n",
       "      <td>0.0</td>\n",
       "      <td>266.00</td>\n",
       "      <td>1998.0</td>\n",
       "      <td>11665.25</td>\n",
       "      <td>2216500.0</td>\n",
       "    </tr>\n",
       "    <tr>\n",
       "      <th>2014</th>\n",
       "      <td>337.0</td>\n",
       "      <td>41850.231454</td>\n",
       "      <td>215156.976469</td>\n",
       "      <td>0.0</td>\n",
       "      <td>258.00</td>\n",
       "      <td>2171.0</td>\n",
       "      <td>11450.00</td>\n",
       "      <td>2219800.0</td>\n",
       "    </tr>\n",
       "    <tr>\n",
       "      <th>2015</th>\n",
       "      <td>313.0</td>\n",
       "      <td>41912.392971</td>\n",
       "      <td>204393.223171</td>\n",
       "      <td>0.0</td>\n",
       "      <td>240.00</td>\n",
       "      <td>2298.0</td>\n",
       "      <td>12196.00</td>\n",
       "      <td>2168100.0</td>\n",
       "    </tr>\n",
       "    <tr>\n",
       "      <th>2016</th>\n",
       "      <td>301.0</td>\n",
       "      <td>44178.700997</td>\n",
       "      <td>207345.452151</td>\n",
       "      <td>0.0</td>\n",
       "      <td>297.00</td>\n",
       "      <td>2001.0</td>\n",
       "      <td>11100.00</td>\n",
       "      <td>2157500.0</td>\n",
       "    </tr>\n",
       "    <tr>\n",
       "      <th>2017</th>\n",
       "      <td>249.0</td>\n",
       "      <td>19059.012048</td>\n",
       "      <td>60096.038625</td>\n",
       "      <td>0.0</td>\n",
       "      <td>228.00</td>\n",
       "      <td>2057.0</td>\n",
       "      <td>12150.00</td>\n",
       "      <td>599747.0</td>\n",
       "    </tr>\n",
       "  </tbody>\n",
       "</table>\n",
       "</div>"
      ],
      "text/plain": [
       "      count          mean            std  min     25%     50%       75%  \\\n",
       "Year                                                                      \n",
       "2003  161.0  25836.285714  164833.398941  0.0  131.00  1143.0   9931.00   \n",
       "2004  224.0  29838.008929  159384.035868  0.0  156.50  1435.0  11365.00   \n",
       "2005  282.0  27286.468085  147021.078116  0.0  206.25  1748.0  10479.25   \n",
       "2006  297.0  35336.269360  193432.461753  1.0  182.00  1609.0  10406.00   \n",
       "2007  300.0  35562.383333  195398.617307  0.0  196.75  2148.5  10096.00   \n",
       "2008  341.0  34918.809384  185842.428655  0.0  231.00  1930.0  10536.00   \n",
       "2009  345.0  33991.773913  183412.828726  0.0  192.00  1861.0  10218.00   \n",
       "2010  358.0  42818.379888  215284.373263  0.0  218.50  2103.5  11446.00   \n",
       "2011  361.0  42220.565097  211920.046778  0.0  209.00  1982.0  11892.00   \n",
       "2012  364.0  41907.527473  210101.649467  0.0  227.75  1985.0  12502.75   \n",
       "2013  368.0  41920.190217  210296.049925  0.0  266.00  1998.0  11665.25   \n",
       "2014  337.0  41850.231454  215156.976469  0.0  258.00  2171.0  11450.00   \n",
       "2015  313.0  41912.392971  204393.223171  0.0  240.00  2298.0  12196.00   \n",
       "2016  301.0  44178.700997  207345.452151  0.0  297.00  2001.0  11100.00   \n",
       "2017  249.0  19059.012048   60096.038625  0.0  228.00  2057.0  12150.00   \n",
       "\n",
       "            max  \n",
       "Year             \n",
       "2003  2071969.0  \n",
       "2004  2139600.0  \n",
       "2005  2179600.0  \n",
       "2006  2242000.0  \n",
       "2007  2271100.0  \n",
       "2008  2289500.0  \n",
       "2009  2281900.0  \n",
       "2010  2269200.0  \n",
       "2011  2244800.0  \n",
       "2012  2224700.0  \n",
       "2013  2216500.0  \n",
       "2014  2219800.0  \n",
       "2015  2168100.0  \n",
       "2016  2157500.0  \n",
       "2017   599747.0  "
      ]
     },
     "execution_count": 18,
     "metadata": {},
     "output_type": "execute_result"
    }
   ],
   "source": [
    "Year_wise"
   ]
  },
  {
   "cell_type": "markdown",
   "metadata": {},
   "source": [
    "HIstogram of the year wise data"
   ]
  },
  {
   "cell_type": "code",
   "execution_count": 20,
   "metadata": {},
   "outputs": [
    {
     "data": {
      "text/plain": [
       "<matplotlib.axes._subplots.AxesSubplot at 0x1cca6c63358>"
      ]
     },
     "execution_count": 20,
     "metadata": {},
     "output_type": "execute_result"
    },
    {
     "data": {
      "image/png": "[encoded data removed]",
      "text/plain": [
       "<Figure size 432x288 with 1 Axes>"
      ]
     },
     "metadata": {
      "needs_background": "light"
     },
     "output_type": "display_data"
    }
   ],
   "source": [
    "Year_wise[\"count\"].hist()"
   ]
  },
  {
   "cell_type": "markdown",
   "metadata": {},
   "source": [
    "Finding the number prisoners in each region every year"
   ]
  },
  {
   "cell_type": "code",
   "execution_count": 21,
   "metadata": {},
   "outputs": [
    {
     "data": {
      "text/plain": [
       "Year  Region  \n",
       "2003  Africa        63526\n",
       "      Americas    2487504\n",
       "      Asia         541794\n",
       "      Europe      1048080\n",
       "      Oceania       18738\n",
       "2004  Africa        91321\n",
       "      Americas    2601067\n",
       "      Asia        1370569\n",
       "      Europe      2596981\n",
       "      Oceania       23776\n",
       "2005  Africa       180090\n",
       "      Americas    3006185\n",
       "      Asia        1719077\n",
       "      Europe      2774572\n",
       "      Oceania       14860\n",
       "2006  Africa       193818\n",
       "      Americas    5631520\n",
       "      Asia        1764967\n",
       "      Europe      2889391\n",
       "      Oceania       15176\n",
       "2007  Africa       336625\n",
       "      Americas    5754086\n",
       "      Asia        1504360\n",
       "      Europe      3003377\n",
       "      Oceania       70267\n",
       "2008  Africa       568141\n",
       "      Americas    6479287\n",
       "      Asia        1648902\n",
       "      Europe      3139256\n",
       "      Oceania       71728\n",
       "                   ...   \n",
       "2012  Africa       396578\n",
       "      Americas    6864695\n",
       "      Asia        5314928\n",
       "      Europe      2602540\n",
       "      Oceania       75599\n",
       "2013  Africa       574502\n",
       "      Americas    6885583\n",
       "      Asia        5366272\n",
       "      Europe      2521609\n",
       "      Oceania       78664\n",
       "2014  Africa       500846\n",
       "      Americas    6302654\n",
       "      Asia        4740254\n",
       "      Europe      2474312\n",
       "      Oceania       85462\n",
       "2015  Africa       497483\n",
       "      Americas    7154837\n",
       "      Asia        3059987\n",
       "      Europe      2315180\n",
       "      Oceania       91092\n",
       "2016  Africa       304961\n",
       "      Americas    7122304\n",
       "      Asia        3543841\n",
       "      Europe      2228599\n",
       "      Oceania       98084\n",
       "2017  Africa       315693\n",
       "      Americas    1252884\n",
       "      Asia         880378\n",
       "      Europe      2213757\n",
       "      Oceania       82982\n",
       "Name: Count, Length: 75, dtype: int64"
      ]
     },
     "execution_count": 21,
     "metadata": {},
     "output_type": "execute_result"
    }
   ],
   "source": [
    "data.groupby([\"Year\",\"Region\"])[\"Count\"].sum()"
   ]
  },
  {
   "cell_type": "markdown",
   "metadata": {},
   "source": [
    "Finding the number of Adult prisoners in the United States every year after 2009"
   ]
  },
  {
   "cell_type": "code",
   "execution_count": 26,
   "metadata": {
    "scrolled": true
   },
   "outputs": [
    {
     "data": {
      "text/html": [
       "<div>\n",
       "<style scoped>\n",
       "    .dataframe tbody tr th:only-of-type {\n",
       "        vertical-align: middle;\n",
       "    }\n",
       "\n",
       "    .dataframe tbody tr th {\n",
       "        vertical-align: top;\n",
       "    }\n",
       "\n",
       "    .dataframe thead th {\n",
       "        text-align: right;\n",
       "    }\n",
       "</style>\n",
       "<table border=\"1\" class=\"dataframe\">\n",
       "  <thead>\n",
       "    <tr style=\"text-align: right;\">\n",
       "      <th></th>\n",
       "      <th>Region</th>\n",
       "      <th>Sub Region</th>\n",
       "      <th>Country</th>\n",
       "      <th>Category</th>\n",
       "      <th>Year</th>\n",
       "      <th>Count</th>\n",
       "      <th>Cat_No</th>\n",
       "      <th>Cat_Name</th>\n",
       "    </tr>\n",
       "  </thead>\n",
       "  <tbody>\n",
       "    <tr>\n",
       "      <th>941</th>\n",
       "      <td>Americas</td>\n",
       "      <td>Northern America</td>\n",
       "      <td>United States of America</td>\n",
       "      <td>1.Adults</td>\n",
       "      <td>2010</td>\n",
       "      <td>2269200</td>\n",
       "      <td>1</td>\n",
       "      <td>Adults</td>\n",
       "    </tr>\n",
       "    <tr>\n",
       "      <th>942</th>\n",
       "      <td>Americas</td>\n",
       "      <td>Northern America</td>\n",
       "      <td>United States of America</td>\n",
       "      <td>1.Adults</td>\n",
       "      <td>2011</td>\n",
       "      <td>2244800</td>\n",
       "      <td>1</td>\n",
       "      <td>Adults</td>\n",
       "    </tr>\n",
       "    <tr>\n",
       "      <th>943</th>\n",
       "      <td>Americas</td>\n",
       "      <td>Northern America</td>\n",
       "      <td>United States of America</td>\n",
       "      <td>1.Adults</td>\n",
       "      <td>2012</td>\n",
       "      <td>2224700</td>\n",
       "      <td>1</td>\n",
       "      <td>Adults</td>\n",
       "    </tr>\n",
       "    <tr>\n",
       "      <th>944</th>\n",
       "      <td>Americas</td>\n",
       "      <td>Northern America</td>\n",
       "      <td>United States of America</td>\n",
       "      <td>1.Adults</td>\n",
       "      <td>2013</td>\n",
       "      <td>2216500</td>\n",
       "      <td>1</td>\n",
       "      <td>Adults</td>\n",
       "    </tr>\n",
       "    <tr>\n",
       "      <th>945</th>\n",
       "      <td>Americas</td>\n",
       "      <td>Northern America</td>\n",
       "      <td>United States of America</td>\n",
       "      <td>1.Adults</td>\n",
       "      <td>2014</td>\n",
       "      <td>2219800</td>\n",
       "      <td>1</td>\n",
       "      <td>Adults</td>\n",
       "    </tr>\n",
       "    <tr>\n",
       "      <th>946</th>\n",
       "      <td>Americas</td>\n",
       "      <td>Northern America</td>\n",
       "      <td>United States of America</td>\n",
       "      <td>1.Adults</td>\n",
       "      <td>2015</td>\n",
       "      <td>2168100</td>\n",
       "      <td>1</td>\n",
       "      <td>Adults</td>\n",
       "    </tr>\n",
       "    <tr>\n",
       "      <th>947</th>\n",
       "      <td>Americas</td>\n",
       "      <td>Northern America</td>\n",
       "      <td>United States of America</td>\n",
       "      <td>1.Adults</td>\n",
       "      <td>2016</td>\n",
       "      <td>2157500</td>\n",
       "      <td>1</td>\n",
       "      <td>Adults</td>\n",
       "    </tr>\n",
       "  </tbody>\n",
       "</table>\n",
       "</div>"
      ],
      "text/plain": [
       "       Region        Sub Region                   Country  Category  Year  \\\n",
       "941  Americas  Northern America  United States of America  1.Adults  2010   \n",
       "942  Americas  Northern America  United States of America  1.Adults  2011   \n",
       "943  Americas  Northern America  United States of America  1.Adults  2012   \n",
       "944  Americas  Northern America  United States of America  1.Adults  2013   \n",
       "945  Americas  Northern America  United States of America  1.Adults  2014   \n",
       "946  Americas  Northern America  United States of America  1.Adults  2015   \n",
       "947  Americas  Northern America  United States of America  1.Adults  2016   \n",
       "\n",
       "       Count Cat_No Cat_Name  \n",
       "941  2269200      1   Adults  \n",
       "942  2244800      1   Adults  \n",
       "943  2224700      1   Adults  \n",
       "944  2216500      1   Adults  \n",
       "945  2219800      1   Adults  \n",
       "946  2168100      1   Adults  \n",
       "947  2157500      1   Adults  "
      ]
     },
     "execution_count": 26,
     "metadata": {},
     "output_type": "execute_result"
    }
   ],
   "source": [
    "data[(data[\"Country\"].str.contains(\"United States of America\")) & (data[\"Cat_Name\"].str.contains('Adults')) & (data[\"Year\"] > 2009)]"
   ]
  },
  {
   "cell_type": "markdown",
   "metadata": {},
   "source": [
    "Sorted order of average number of prisoners in each category for the country Mexico"
   ]
  },
  {
   "cell_type": "code",
   "execution_count": 34,
   "metadata": {},
   "outputs": [
    {
     "name": "stdout",
     "output_type": "stream",
     "text": [
      "Cat_Name\n",
      "Foreigners      2148.444444\n",
      "Juveniles       5133.357143\n",
      "Adults        199187.533333\n",
      "Nationals     215658.300000\n",
      "Name: Count, dtype: float64\n"
     ]
    }
   ],
   "source": [
    "Mex = data[data[\"Country\"].str.contains(\"Mexico\")]\n",
    "Mex_cat = Mex.groupby(\"Cat_Name\")\n",
    "Mex_cat_mean = Mex_cat[\"Count\"].mean()\n",
    "Mex_cat_mean_sort = Mex_cat_mean.sort_values()\n",
    "print(Mex_cat_mean_sort)"
   ]
  },
  {
   "cell_type": "markdown",
   "metadata": {},
   "source": [
    "Histogram of Juvenile prisoners in Mongolia showing a steady decline over the years"
   ]
  },
  {
   "cell_type": "code",
   "execution_count": 36,
   "metadata": {},
   "outputs": [
    {
     "data": {
      "image/png": "[encoded data removed]",
      "text/plain": [
       "<Figure size 432x288 with 1 Axes>"
      ]
     },
     "metadata": {
      "needs_background": "light"
     },
     "output_type": "display_data"
    }
   ],
   "source": [
    "Mong = data[data[\"Country\"].str.contains(\"Mongolia\")]\n",
    "Mong_Juv = Mong[Mong[\"Cat_No\"].str.contains(\"2\")]\n",
    "Mong_Juv_Hist = Mong_Juv[\"Count\"].hist()"
   ]
  },
  {
   "cell_type": "markdown",
   "metadata": {},
   "source": [
    "Create a new coulmn and assign the values of either \"Internationals\" or \"Locals\" based on the values in the column \"Cat_Name\""
   ]
  },
  {
   "cell_type": "code",
   "execution_count": 29,
   "metadata": {},
   "outputs": [],
   "source": [
    "data['main_category'] = np.where(data['Cat_Name']=='Foreigners', 'Internationals', 'Locals')"
   ]
  },
  {
   "cell_type": "code",
   "execution_count": 31,
   "metadata": {},
   "outputs": [
    {
     "data": {
      "text/html": [
       "<div>\n",
       "<style scoped>\n",
       "    .dataframe tbody tr th:only-of-type {\n",
       "        vertical-align: middle;\n",
       "    }\n",
       "\n",
       "    .dataframe tbody tr th {\n",
       "        vertical-align: top;\n",
       "    }\n",
       "\n",
       "    .dataframe thead th {\n",
       "        text-align: right;\n",
       "    }\n",
       "</style>\n",
       "<table border=\"1\" class=\"dataframe\">\n",
       "  <thead>\n",
       "    <tr style=\"text-align: right;\">\n",
       "      <th></th>\n",
       "      <th>Region</th>\n",
       "      <th>Sub Region</th>\n",
       "      <th>Country</th>\n",
       "      <th>Category</th>\n",
       "      <th>Year</th>\n",
       "      <th>Count</th>\n",
       "      <th>Cat_No</th>\n",
       "      <th>Cat_Name</th>\n",
       "      <th>main_category</th>\n",
       "    </tr>\n",
       "  </thead>\n",
       "  <tbody>\n",
       "    <tr>\n",
       "      <th>0</th>\n",
       "      <td>Africa</td>\n",
       "      <td>Eastern Africa</td>\n",
       "      <td>Burundi</td>\n",
       "      <td>1.Adults</td>\n",
       "      <td>2006</td>\n",
       "      <td>7858</td>\n",
       "      <td>1</td>\n",
       "      <td>Adults</td>\n",
       "      <td>Locals</td>\n",
       "    </tr>\n",
       "    <tr>\n",
       "      <th>1</th>\n",
       "      <td>Africa</td>\n",
       "      <td>Eastern Africa</td>\n",
       "      <td>Burundi</td>\n",
       "      <td>1.Adults</td>\n",
       "      <td>2007</td>\n",
       "      <td>7882</td>\n",
       "      <td>1</td>\n",
       "      <td>Adults</td>\n",
       "      <td>Locals</td>\n",
       "    </tr>\n",
       "    <tr>\n",
       "      <th>2</th>\n",
       "      <td>Africa</td>\n",
       "      <td>Eastern Africa</td>\n",
       "      <td>Burundi</td>\n",
       "      <td>1.Adults</td>\n",
       "      <td>2008</td>\n",
       "      <td>9451</td>\n",
       "      <td>1</td>\n",
       "      <td>Adults</td>\n",
       "      <td>Locals</td>\n",
       "    </tr>\n",
       "    <tr>\n",
       "      <th>3</th>\n",
       "      <td>Africa</td>\n",
       "      <td>Eastern Africa</td>\n",
       "      <td>Burundi</td>\n",
       "      <td>1.Adults</td>\n",
       "      <td>2009</td>\n",
       "      <td>10460</td>\n",
       "      <td>1</td>\n",
       "      <td>Adults</td>\n",
       "      <td>Locals</td>\n",
       "    </tr>\n",
       "    <tr>\n",
       "      <th>4</th>\n",
       "      <td>Africa</td>\n",
       "      <td>Eastern Africa</td>\n",
       "      <td>Burundi</td>\n",
       "      <td>1.Adults</td>\n",
       "      <td>2010</td>\n",
       "      <td>9477</td>\n",
       "      <td>1</td>\n",
       "      <td>Adults</td>\n",
       "      <td>Locals</td>\n",
       "    </tr>\n",
       "  </tbody>\n",
       "</table>\n",
       "</div>"
      ],
      "text/plain": [
       "   Region      Sub Region  Country  Category  Year  Count Cat_No Cat_Name  \\\n",
       "0  Africa  Eastern Africa  Burundi  1.Adults  2006   7858      1   Adults   \n",
       "1  Africa  Eastern Africa  Burundi  1.Adults  2007   7882      1   Adults   \n",
       "2  Africa  Eastern Africa  Burundi  1.Adults  2008   9451      1   Adults   \n",
       "3  Africa  Eastern Africa  Burundi  1.Adults  2009  10460      1   Adults   \n",
       "4  Africa  Eastern Africa  Burundi  1.Adults  2010   9477      1   Adults   \n",
       "\n",
       "  main_category  \n",
       "0        Locals  \n",
       "1        Locals  \n",
       "2        Locals  \n",
       "3        Locals  \n",
       "4        Locals  "
      ]
     },
     "execution_count": 31,
     "metadata": {},
     "output_type": "execute_result"
    }
   ],
   "source": [
    "data.head()"
   ]
  },
  {
   "cell_type": "markdown",
   "metadata": {},
   "source": [
    "Finding all the Countries in sorted order(ascending) that had less than 500 local prisoners in the year 2010"
   ]
  },
  {
   "cell_type": "code",
   "execution_count": 38,
   "metadata": {},
   "outputs": [
    {
     "name": "stdout",
     "output_type": "stream",
     "text": [
      "Country\n",
      "Holy See            0\n",
      "Faeroe Islands      8\n",
      "Monaco             13\n",
      "Andorra            53\n",
      "Liechtenstein      91\n",
      "Iceland           307\n",
      "Name: Count, dtype: int64\n"
     ]
    }
   ],
   "source": [
    "Loc_2010=data[(data[\"main_category\"].str.contains(\"Locals\")) &(data[\"Year\"]==2010)]\n",
    "Loc_2010_country=Loc_2010.groupby(\"Country\")\n",
    "Loc_2010_country_sort=Loc_2010_country[\"Count\"].sum().sort_values()\n",
    "Loc_2010_country_sort_500=Loc_2010_country_sort[Q6_3<500]\n",
    "print(Loc_2010_country_sort_500)"
   ]
  }
 ],
 "metadata": {
  "kernelspec": {
   "display_name": "Python 3",
   "language": "python",
   "name": "python3"
  },
  "language_info": {
   "codemirror_mode": {
    "name": "ipython",
    "version": 3
   },
   "file_extension": ".py",
   "mimetype": "text/x-python",
   "name": "python",
   "nbconvert_exporter": "python",
   "pygments_lexer": "ipython3",
   "version": "3.7.2"
  }
 },
 "nbformat": 4,
 "nbformat_minor": 2
}
