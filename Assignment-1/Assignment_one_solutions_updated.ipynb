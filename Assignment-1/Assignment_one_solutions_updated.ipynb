{
 "cells": [
  {
   "cell_type": "markdown",
   "metadata": {},
   "source": [
    " ### The questions below relate to the bank.csv data file and the associated coulmn_meta.txt file that lists the column names."
   ]
  },
  {
   "cell_type": "markdown",
   "metadata": {},
   "source": [
    "1. Load the data and programmatically define the column names. Note: this part is \"mostly\" done for you below, but you have to modify two parts of the code below (read the comments to see which). Makes rue to look at the column_meta.txt file in a text editor so you can understand how the column names show up in that file. As you can also see, the bank.csv does not have the names as part of the file, which is why we are doing this here."
   ]
  },
  {
   "cell_type": "markdown",
   "metadata": {},
   "source": [
    "### The solution represents just one of the many ways to approach the below questions"
   ]
  },
  {
   "cell_type": "code",
   "execution_count": 1,
   "metadata": {},
   "outputs": [],
   "source": [
    "import numpy as np\n",
    "import pandas as pd"
   ]
  },
  {
   "cell_type": "code",
   "execution_count": 2,
   "metadata": {},
   "outputs": [],
   "source": [
    "bank=pd.read_csv(\"bank.csv\",header=None)\n",
    "\n",
    "# Without using header=None, the read function will assume the first row as the header"
   ]
  },
  {
   "cell_type": "code",
   "execution_count": 3,
   "metadata": {},
   "outputs": [],
   "source": [
    "col_nm_file = open(\"column_meta.txt\", \"r\") \n",
    "col_nms = col_nm_file.readlines(-1)\n",
    "col_nm_file.close()"
   ]
  },
  {
   "cell_type": "code",
   "execution_count": 4,
   "metadata": {},
   "outputs": [
    {
     "name": "stdout",
     "output_type": "stream",
     "text": [
      "['age', 'job', 'marital', 'education', 'default', 'balance', 'housing', 'loan', 'contact', 'day_of_the_month', 'month', 'duration', 'campaign', 'pdays', 'previous', 'poutcome', 'subscribed']\n"
     ]
    }
   ],
   "source": [
    "def column_names(col_nm_list):\n",
    "    col_names=[]\n",
    "    for i in col_nm_list:\n",
    "        if i[0].isdigit(): #The function isnumeric() does the job as well\n",
    "            header=i.split(\"-\")[1]\n",
    "            header_2=header.split()[0]\n",
    "            col_names.append(header_2)\n",
    "    return col_names\n",
    "Col_names=column_names(col_nms)\n",
    "print (Col_names)"
   ]
  },
  {
   "cell_type": "code",
   "execution_count": 5,
   "metadata": {},
   "outputs": [],
   "source": [
    "bank.columns=Col_names"
   ]
  },
  {
   "cell_type": "code",
   "execution_count": 6,
   "metadata": {
    "scrolled": true
   },
   "outputs": [
    {
     "data": {
      "text/html": [
       "<div>\n",
       "<style scoped>\n",
       "    .dataframe tbody tr th:only-of-type {\n",
       "        vertical-align: middle;\n",
       "    }\n",
       "\n",
       "    .dataframe tbody tr th {\n",
       "        vertical-align: top;\n",
       "    }\n",
       "\n",
       "    .dataframe thead th {\n",
       "        text-align: right;\n",
       "    }\n",
       "</style>\n",
       "<table border=\"1\" class=\"dataframe\">\n",
       "  <thead>\n",
       "    <tr style=\"text-align: right;\">\n",
       "      <th></th>\n",
       "      <th>age</th>\n",
       "      <th>job</th>\n",
       "      <th>marital</th>\n",
       "      <th>education</th>\n",
       "      <th>default</th>\n",
       "      <th>balance</th>\n",
       "      <th>housing</th>\n",
       "      <th>loan</th>\n",
       "      <th>contact</th>\n",
       "      <th>day_of_the_month</th>\n",
       "      <th>month</th>\n",
       "      <th>duration</th>\n",
       "      <th>campaign</th>\n",
       "      <th>pdays</th>\n",
       "      <th>previous</th>\n",
       "      <th>poutcome</th>\n",
       "      <th>subscribed</th>\n",
       "    </tr>\n",
       "  </thead>\n",
       "  <tbody>\n",
       "    <tr>\n",
       "      <th>0</th>\n",
       "      <td>30</td>\n",
       "      <td>unemployed</td>\n",
       "      <td>married</td>\n",
       "      <td>primary</td>\n",
       "      <td>no</td>\n",
       "      <td>1787</td>\n",
       "      <td>no</td>\n",
       "      <td>no</td>\n",
       "      <td>cellular</td>\n",
       "      <td>19</td>\n",
       "      <td>oct</td>\n",
       "      <td>79</td>\n",
       "      <td>1</td>\n",
       "      <td>-1</td>\n",
       "      <td>0</td>\n",
       "      <td>unknown</td>\n",
       "      <td>no</td>\n",
       "    </tr>\n",
       "    <tr>\n",
       "      <th>1</th>\n",
       "      <td>33</td>\n",
       "      <td>services</td>\n",
       "      <td>married</td>\n",
       "      <td>secondary</td>\n",
       "      <td>no</td>\n",
       "      <td>4789</td>\n",
       "      <td>yes</td>\n",
       "      <td>yes</td>\n",
       "      <td>cellular</td>\n",
       "      <td>11</td>\n",
       "      <td>may</td>\n",
       "      <td>220</td>\n",
       "      <td>1</td>\n",
       "      <td>339</td>\n",
       "      <td>4</td>\n",
       "      <td>failure</td>\n",
       "      <td>no</td>\n",
       "    </tr>\n",
       "    <tr>\n",
       "      <th>2</th>\n",
       "      <td>35</td>\n",
       "      <td>management</td>\n",
       "      <td>single</td>\n",
       "      <td>tertiary</td>\n",
       "      <td>no</td>\n",
       "      <td>1350</td>\n",
       "      <td>yes</td>\n",
       "      <td>no</td>\n",
       "      <td>cellular</td>\n",
       "      <td>16</td>\n",
       "      <td>apr</td>\n",
       "      <td>185</td>\n",
       "      <td>1</td>\n",
       "      <td>330</td>\n",
       "      <td>1</td>\n",
       "      <td>failure</td>\n",
       "      <td>no</td>\n",
       "    </tr>\n",
       "    <tr>\n",
       "      <th>3</th>\n",
       "      <td>30</td>\n",
       "      <td>management</td>\n",
       "      <td>married</td>\n",
       "      <td>tertiary</td>\n",
       "      <td>no</td>\n",
       "      <td>1476</td>\n",
       "      <td>yes</td>\n",
       "      <td>yes</td>\n",
       "      <td>unknown</td>\n",
       "      <td>3</td>\n",
       "      <td>jun</td>\n",
       "      <td>199</td>\n",
       "      <td>4</td>\n",
       "      <td>-1</td>\n",
       "      <td>0</td>\n",
       "      <td>unknown</td>\n",
       "      <td>no</td>\n",
       "    </tr>\n",
       "    <tr>\n",
       "      <th>4</th>\n",
       "      <td>59</td>\n",
       "      <td>blue-collar</td>\n",
       "      <td>married</td>\n",
       "      <td>secondary</td>\n",
       "      <td>no</td>\n",
       "      <td>0</td>\n",
       "      <td>yes</td>\n",
       "      <td>no</td>\n",
       "      <td>unknown</td>\n",
       "      <td>5</td>\n",
       "      <td>may</td>\n",
       "      <td>226</td>\n",
       "      <td>1</td>\n",
       "      <td>-1</td>\n",
       "      <td>0</td>\n",
       "      <td>unknown</td>\n",
       "      <td>no</td>\n",
       "    </tr>\n",
       "  </tbody>\n",
       "</table>\n",
       "</div>"
      ],
      "text/plain": [
       "   age          job  marital  education default  balance housing loan  \\\n",
       "0   30   unemployed  married    primary      no     1787      no   no   \n",
       "1   33     services  married  secondary      no     4789     yes  yes   \n",
       "2   35   management   single   tertiary      no     1350     yes   no   \n",
       "3   30   management  married   tertiary      no     1476     yes  yes   \n",
       "4   59  blue-collar  married  secondary      no        0     yes   no   \n",
       "\n",
       "    contact  day_of_the_month month  duration  campaign  pdays  previous  \\\n",
       "0  cellular                19   oct        79         1     -1         0   \n",
       "1  cellular                11   may       220         1    339         4   \n",
       "2  cellular                16   apr       185         1    330         1   \n",
       "3   unknown                 3   jun       199         4     -1         0   \n",
       "4   unknown                 5   may       226         1     -1         0   \n",
       "\n",
       "  poutcome subscribed  \n",
       "0  unknown         no  \n",
       "1  failure         no  \n",
       "2  failure         no  \n",
       "3  unknown         no  \n",
       "4  unknown         no  "
      ]
     },
     "execution_count": 6,
     "metadata": {},
     "output_type": "execute_result"
    }
   ],
   "source": [
    "bank.head(5)"
   ]
  },
  {
   "cell_type": "markdown",
   "metadata": {},
   "source": [
    "2. Find the mean, min and max duration of campaign for all the customers that did not subscribe to a term deposit."
   ]
  },
  {
   "cell_type": "code",
   "execution_count": 7,
   "metadata": {},
   "outputs": [
    {
     "data": {
      "text/plain": [
       "mean     226.3475\n",
       "min        4.0000\n",
       "max     3025.0000\n",
       "Name: duration, dtype: float64"
      ]
     },
     "execution_count": 7,
     "metadata": {},
     "output_type": "execute_result"
    }
   ],
   "source": [
    "Q2 = bank[bank[\"subscribed\"]==\"no\"][\"duration\"].describe()\n",
    "Q2[['mean', 'min', 'max']]\n",
    "\n",
    "#The usage of \"campaign\" column to calculate the stats is incorrect"
   ]
  },
  {
   "cell_type": "markdown",
   "metadata": {},
   "source": [
    "3. How many married people with both housing loan and personal loan subscribed to the term deposit on first time being campaigned?\n",
    "\n",
    "This question is open to many interpretations. \"First time being campained\" may be viewed in one of the following ways:\n",
    "1. No previous campaigns\n",
    "2. First attempt as part of this campaign\n",
    "3. No previous campaigns and first attempt of this campaign (both inclusive)\n",
    "\n",
    "Few of you have used the condition \"pdays=999\" which, according to the description in the metadata file, is correct as well."
   ]
  },
  {
   "cell_type": "code",
   "execution_count": 11,
   "metadata": {},
   "outputs": [
    {
     "name": "stdout",
     "output_type": "stream",
     "text": [
      "Case 1: 9\n",
      "Case 2: 6\n",
      "Case 3: 4\n"
     ]
    }
   ],
   "source": [
    "Q3_1 = bank[((bank[\"housing\"]==\"yes\") & (bank[\"loan\"]==\"yes\")) & (bank[\"marital\"].str.contains(\"married\")) & (bank[\"previous\"]==0) & (bank[\"subscribed\"]==\"yes\")]\n",
    "print(\"Case 1:\",len(Q3_1))\n",
    "\n",
    "Q3_2 = bank[((bank[\"housing\"]==\"yes\") & (bank[\"loan\"]==\"yes\")) & (bank[\"marital\"].str.contains(\"married\")) & (bank[\"campaign\"]==1) & (bank[\"subscribed\"]==\"yes\")]\n",
    "print(\"Case 2:\",len(Q3_2))\n",
    "\n",
    "Q3_3 = bank[((bank[\"housing\"]==\"yes\") & (bank[\"loan\"]==\"yes\")) & (bank[\"marital\"].str.contains(\"married\")) & (bank[\"previous\"]==0) & (bank[\"campaign\"]==1) & (bank[\"subscribed\"]==\"yes\")]\n",
    "print(\"Case 3:\",len(Q3_3))"
   ]
  },
  {
   "cell_type": "markdown",
   "metadata": {},
   "source": [
    "4. Optional Question (no credit, or no extra credit): Find the top five categories of customers(by job) that required maximum campaigning duration to subscribe to the term deposit."
   ]
  },
  {
   "cell_type": "code",
   "execution_count": 9,
   "metadata": {},
   "outputs": [
    {
     "name": "stdout",
     "output_type": "stream",
     "text": [
      "                 duration\n",
      "job                      \n",
      "entrepreneur   765.466667\n",
      "blue-collar    709.927536\n",
      "self-employed  662.950000\n",
      "services       640.736842\n",
      "unemployed     599.230769\n"
     ]
    }
   ],
   "source": [
    "Q4_1 = bank[bank[\"subscribed\"]==\"yes\"]\n",
    "Q4_2 = Q4_1.groupby(\"job\")[[\"duration\"]].mean()\n",
    "Q4_3 = Q4_2.sort_values(by=\"duration\",ascending=False).head(5)\n",
    "print(Q4_3)"
   ]
  },
  {
   "cell_type": "markdown",
   "metadata": {},
   "source": [
    "5. Draw a histogram of \"day_of_the_month\" and provide insights based on the distribution."
   ]
  },
  {
   "cell_type": "code",
   "execution_count": 11,
   "metadata": {},
   "outputs": [
    {
     "data": {
      "text/plain": [
       "array([[<matplotlib.axes._subplots.AxesSubplot object at 0x00000208DF7B7080>]],\n",
       "      dtype=object)"
      ]
     },
     "execution_count": 11,
     "metadata": {},
     "output_type": "execute_result"
    },
    {
     "data": {
      "image/png": "[encoded data removed]",
      "text/plain": [
       "<Figure size 432x288 with 1 Axes>"
      ]
     },
     "metadata": {
      "needs_background": "light"
     },
     "output_type": "display_data"
    }
   ],
   "source": [
    "bank.hist([\"day_of_the_month\"],bins=31)"
   ]
  },
  {
   "cell_type": "markdown",
   "metadata": {},
   "source": [
    "* The histogram shows a multimodal distribution\n",
    "* The campaigning is intense during the third week of any month i.e, ususally between 14 and 21"
   ]
  },
  {
   "cell_type": "code",
   "execution_count": null,
   "metadata": {},
   "outputs": [],
   "source": []
  }
 ],
 "metadata": {
  "kernelspec": {
   "display_name": "Python 3",
   "language": "python",
   "name": "python3"
  },
  "language_info": {
   "codemirror_mode": {
    "name": "ipython",
    "version": 3
   },
   "file_extension": ".py",
   "mimetype": "text/x-python",
   "name": "python",
   "nbconvert_exporter": "python",
   "pygments_lexer": "ipython3",
   "version": "3.7.2"
  }
 },
 "nbformat": 4,
 "nbformat_minor": 2
}
