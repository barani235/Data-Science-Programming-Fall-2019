{
 "cells": [
  {
   "cell_type": "markdown",
   "metadata": {},
   "source": [
    "# Data Science Programming Fall 19 Assignment 2"
   ]
  },
  {
   "cell_type": "markdown",
   "metadata": {},
   "source": [
    "<b><i>This Assignment focuses on data preprocessing and model building. Load the \"bank\" dataset and predict the \"subscription status\" using a stochastic gradient descent classifier. Make a stratified 80-20 split based on target to ensure there are no biases in the dataset. Calculate the confusion matrix, precision, recall, accuracy, f1 score, cross validation scores for the models. Also, plot ROC Curve for the model. Provide your intepretations based on these metrics.</i></b>"
   ]
  },
  {
   "cell_type": "markdown",
   "metadata": {},
   "source": [
    "<ul>\n",
    "    <li>Import the required libraries</li>\n",
    "    <li>Make an 80-20 stratified split based on the target data</li>\n",
    "    <li>Preprocess the data (Encode the  categorical features and Standardize the numerical features)</li>\n",
    "    <li>Build a stochastic gradient descent classifier, train the model and make predictions using it</li>\n",
    "    <li>Evaluate your model based on the various metrics stated above</li>\n",
    "    <li>Plot ROC curve and provide insights</li>\n",
    "</ul>"
   ]
  },
  {
   "cell_type": "code",
   "execution_count": 410,
   "metadata": {},
   "outputs": [],
   "source": [
    "import pandas as pd\n",
    "import numpy as np\n",
    "from sklearn.model_selection import train_test_split\n",
    "from sklearn.linear_model import SGDClassifier\n",
    "from sklearn.preprocessing import StandardScaler\n",
    "from sklearn.metrics import accuracy_score,mean_squared_error,confusion_matrix,precision_score,recall_score,f1_score,roc_curve\n",
    "from sklearn.model_selection import cross_val_score\n",
    "import matplotlib.pyplot as plt\n",
    "import warnings\n",
    "warnings.filterwarnings('ignore')"
   ]
  },
  {
   "cell_type": "code",
   "execution_count": 440,
   "metadata": {},
   "outputs": [],
   "source": [
    "bank=pd.read_csv(\"bank.csv\",header='infer')"
   ]
  },
  {
   "cell_type": "code",
   "execution_count": 427,
   "metadata": {},
   "outputs": [],
   "source": [
    "target = bank.pop('y')\n",
    "target = target.to_frame(name=\"y\")"
   ]
  },
  {
   "cell_type": "code",
   "execution_count": 428,
   "metadata": {},
   "outputs": [],
   "source": [
    "X_train, X_test, y_train, y_test = train_test_split(bank, target, test_size=0.2, random_state=42,stratify=target)"
   ]
  },
  {
   "cell_type": "code",
   "execution_count": 429,
   "metadata": {},
   "outputs": [],
   "source": [
    "y_train['y'] = y_train['y'].astype('category')\n",
    "y_train['y'] = y_train['y'].cat.codes \n",
    "\n",
    "y_test['y'] = y_test['y'].astype('category')\n",
    "y_test['y'] = y_test['y'].cat.codes "
   ]
  },
  {
   "cell_type": "code",
   "execution_count": 430,
   "metadata": {},
   "outputs": [],
   "source": [
    "def encode(df):\n",
    "    cat_cols=df[[\"job\",\"marital\",\"education\",\"default\",\"housing\",\"loan\",\"month\"]].columns.values.tolist()\n",
    "    df = pd.get_dummies(df, columns=cat_cols, prefix=cat_cols)\n",
    "    return df"
   ]
  },
  {
   "cell_type": "code",
   "execution_count": 431,
   "metadata": {},
   "outputs": [],
   "source": [
    "X_train = encode(X_train)\n",
    "X_test = encode(X_test)"
   ]
  },
  {
   "cell_type": "code",
   "execution_count": 432,
   "metadata": {},
   "outputs": [],
   "source": [
    "scaler = StandardScaler()"
   ]
  },
  {
   "cell_type": "code",
   "execution_count": 433,
   "metadata": {},
   "outputs": [],
   "source": [
    "X_train = scaler.fit_transform(X_train)\n",
    "X_test = scaler.transform(X_test)"
   ]
  },
  {
   "cell_type": "code",
   "execution_count": 434,
   "metadata": {},
   "outputs": [],
   "source": [
    "sgd=SGDClassifier(loss='hinge', alpha=0.0001, random_state=42, eta0=0.1)"
   ]
  },
  {
   "cell_type": "code",
   "execution_count": 435,
   "metadata": {},
   "outputs": [
    {
     "data": {
      "text/plain": [
       "SGDClassifier(alpha=0.0001, average=False, class_weight=None,\n",
       "       early_stopping=False, epsilon=0.1, eta0=0.1, fit_intercept=True,\n",
       "       l1_ratio=0.15, learning_rate='optimal', loss='hinge', max_iter=None,\n",
       "       n_iter=None, n_iter_no_change=5, n_jobs=None, penalty='l2',\n",
       "       power_t=0.5, random_state=42, shuffle=True, tol=None,\n",
       "       validation_fraction=0.1, verbose=0, warm_start=False)"
      ]
     },
     "execution_count": 435,
     "metadata": {},
     "output_type": "execute_result"
    }
   ],
   "source": [
    "sgd.fit(X_train,y_train)"
   ]
  },
  {
   "cell_type": "code",
   "execution_count": 436,
   "metadata": {},
   "outputs": [],
   "source": [
    "y_predicted=sgd.predict(X_test)"
   ]
  },
  {
   "cell_type": "code",
   "execution_count": 437,
   "metadata": {},
   "outputs": [
    {
     "data": {
      "text/plain": [
       "array([[686, 115],\n",
       "       [ 48,  56]], dtype=int64)"
      ]
     },
     "execution_count": 437,
     "metadata": {},
     "output_type": "execute_result"
    }
   ],
   "source": [
    "confusion_matrix(y_test, y_predicted)"
   ]
  },
  {
   "cell_type": "code",
   "execution_count": 438,
   "metadata": {},
   "outputs": [
    {
     "name": "stdout",
     "output_type": "stream",
     "text": [
      "Stochastic Gradient Descent Classifier\n",
      "Precision Score: 0.33\n",
      "Recall Score: 0.54\n",
      "Accuracy Score: 0.82\n",
      "F1 Score: 0.84\n",
      "Cross validation Scores: [0.86981758 0.88298755 0.8746888 ]\n"
     ]
    }
   ],
   "source": [
    "print('Stochastic Gradient Descent Classifier')\n",
    "print('Precision Score: '+ str(round(precision_score(y_test, y_predicted),2)))\n",
    "print('Recall Score: '+ str(round(recall_score(y_test,y_predicted),2)))\n",
    "print('Accuracy Score: '+ str(round(accuracy_score(y_test,y_predicted),2)))\n",
    "print('F1 Score: '+ str(round(f1_score(y_test, y_predicted, average='weighted'),2)))\n",
    "print('Cross validation Scores: ' + str(cross_val_score(sgd,X_train,y_train,cv=3,scoring=\"accuracy\")))"
   ]
  },
  {
   "cell_type": "code",
   "execution_count": 439,
   "metadata": {},
   "outputs": [
    {
     "data": {
      "image/png": "[encoded data removed]",
      "text/plain": [
       "<Figure size 432x288 with 1 Axes>"
      ]
     },
     "metadata": {
      "needs_background": "light"
     },
     "output_type": "display_data"
    }
   ],
   "source": [
    "y_scores=cross_val_predict(sgd,X_train,y_train,cv=3,method=\"decision_function\")\n",
    "fpr,tpr,thresholds=roc_curve(y_train,y_scores, pos_label=1)\n",
    "def plot_roc_curve(fpr,tpr,label=None):\n",
    "    plt.plot(fpr,tpr,linewidth=2,label=label)\n",
    "    plt.plot([0, 1], [0, 1], 'r--')\n",
    "    plt.axis([0,1,0,1])\n",
    "    plt.xlabel('False Positive Rate')\n",
    "    plt.ylabel('True Positive Rate')\n",
    "plot_roc_curve(fpr,tpr)\n",
    "plt.show()"
   ]
  },
  {
   "cell_type": "code",
   "execution_count": null,
   "metadata": {},
   "outputs": [],
   "source": []
  }
 ],
 "metadata": {
  "kernelspec": {
   "display_name": "Python 3",
   "language": "python",
   "name": "python3"
  },
  "language_info": {
   "codemirror_mode": {
    "name": "ipython",
    "version": 3
   },
   "file_extension": ".py",
   "mimetype": "text/x-python",
   "name": "python",
   "nbconvert_exporter": "python",
   "pygments_lexer": "ipython3",
   "version": "3.7.2"
  }
 },
 "nbformat": 4,
 "nbformat_minor": 2
}
