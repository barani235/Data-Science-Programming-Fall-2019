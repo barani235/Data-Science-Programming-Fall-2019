{
 "cells": [
  {
   "cell_type": "markdown",
   "metadata": {},
   "source": [
    "# Data Science Programming Assignment 4"
   ]
  },
  {
   "cell_type": "markdown",
   "metadata": {},
   "source": [
    "<ul>\n",
    "    <li>Load the Banknote Authentication dataset and split it into a training set, a validation set and a test set</li>\n",
    "    <li>Create a Bagging classifier with Decision Tree classifiers</li>\n",
    "    <li>Then train various classifiers, such as Logistic Regression, Random Forest classifier, and an Extra-Trees classifier</li>\n",
    "    <li>Next, try to combine them into an ensemble that outperforms them all on the validation set, using a soft or hard voting classifier \n",
    "    <li>Once you have found one, try it on the test set</li>\n",
    "    <li>How much better does it perform compared to the individual classifiers?</li>\n",
    "</ul>"
   ]
  },
  {
   "cell_type": "code",
   "execution_count": null,
   "metadata": {},
   "outputs": [],
   "source": []
  }
 ],
 "metadata": {
  "kernelspec": {
   "display_name": "Python 3",
   "language": "python",
   "name": "python3"
  },
  "language_info": {
   "codemirror_mode": {
    "name": "ipython",
    "version": 3
   },
   "file_extension": ".py",
   "mimetype": "text/x-python",
   "name": "python",
   "nbconvert_exporter": "python",
   "pygments_lexer": "ipython3",
   "version": "3.7.2"
  }
 },
 "nbformat": 4,
 "nbformat_minor": 2
}
